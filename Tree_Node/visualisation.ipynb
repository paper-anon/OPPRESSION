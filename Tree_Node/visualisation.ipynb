{
 "cells": [
  {
   "cell_type": "markdown",
   "metadata": {},
   "source": []
  },
  {
   "cell_type": "code",
   "execution_count": null,
   "metadata": {
    "ExecuteTime": {
     "end_time": "2023-08-18T13:02:22.583773Z",
     "start_time": "2023-08-18T13:02:22.581977Z"
    }
   },
   "outputs": [],
   "source": [
    "import pandas as pd\n",
    "import matplotlib.pyplot as plt\n",
    "import numpy as np\n",
    "import seaborn as sns\n",
    "import matplotlib.patches as mpatches\n"
   ]
  },
  {
   "cell_type": "code",
   "execution_count": null,
   "metadata": {
    "ExecuteTime": {
     "end_time": "2023-08-18T13:02:22.586604Z",
     "start_time": "2023-08-18T13:02:22.584574Z"
    }
   },
   "outputs": [],
   "source": [
    "spelling = False\n",
    "long = False\n",
    "\n",
    "res_folder = \"result\""
   ]
  },
  {
   "cell_type": "code",
   "execution_count": null,
   "metadata": {
    "ExecuteTime": {
     "end_time": "2023-08-18T13:02:22.597285Z",
     "start_time": "2023-08-18T13:02:22.588153Z"
    }
   },
   "outputs": [],
   "source": [
    "df_crossref_2 = pd.read_pickle(f\"{res_folder}/Crossref_2.p\")\n",
    "df_crossref_3 = pd.read_pickle(f\"{res_folder}/Crossref_3.p\")\n",
    "df_crossref_5 = pd.read_pickle(f\"{res_folder}/Crossref_5.p\")\n",
    "df_crossref_10 = pd.read_pickle(f\"{res_folder}/Crossref_10.p\")\n",
    "df_crossref_15 = pd.read_pickle(f\"{res_folder}/Crossref_15.p\")\n",
    "\n",
    "df_crossref_2.tree.unique()\n"
   ]
  },
  {
   "cell_type": "code",
   "execution_count": null,
   "metadata": {
    "ExecuteTime": {
     "end_time": "2023-08-18T13:02:22.601988Z",
     "start_time": "2023-08-18T13:02:22.597419Z"
    },
    "collapsed": false
   },
   "outputs": [],
   "source": [
    "print(df_crossref_2.target.unique())"
   ]
  },
  {
   "cell_type": "code",
   "execution_count": null,
   "metadata": {
    "ExecuteTime": {
     "end_time": "2023-08-18T13:02:22.613794Z",
     "start_time": "2023-08-18T13:02:22.599479Z"
    },
    "collapsed": false
   },
   "outputs": [],
   "source": [
    "\n",
    "df_crossref_2.head()"
   ]
  },
  {
   "cell_type": "code",
   "execution_count": null,
   "metadata": {
    "ExecuteTime": {
     "end_time": "2023-08-18T13:02:22.613989Z",
     "start_time": "2023-08-18T13:02:22.608576Z"
    }
   },
   "outputs": [],
   "source": [
    "selection_trees = ['book_combi', 'news_combi', 'wiki_combi', 'twitter_combi', 'complete_combi']\n",
    "\n",
    "selection_targets = ['book_target',\n",
    "                     'bbc_target', 'reuters_target',\n",
    "                     'wiki_cities_target', 'wiki_history_target', 'wiki_science_target', 'wiki_sports_target',\n",
    "                     'twitter_target']"
   ]
  },
  {
   "cell_type": "code",
   "execution_count": null,
   "metadata": {
    "ExecuteTime": {
     "end_time": "2023-08-18T13:02:22.619820Z",
     "start_time": "2023-08-18T13:02:22.610330Z"
    }
   },
   "outputs": [],
   "source": [
    "df_crossref_2 = df_crossref_2[df_crossref_2[\"tree\"].isin(selection_trees)]\n",
    "df_crossref_3 = df_crossref_3[df_crossref_3[\"tree\"].isin(selection_trees)]\n",
    "df_crossref_5 = df_crossref_5[df_crossref_5[\"tree\"].isin(selection_trees)]\n",
    "df_crossref_10 = df_crossref_10[df_crossref_10[\"tree\"].isin(selection_trees)]\n",
    "df_crossref_15 = df_crossref_15[df_crossref_15[\"tree\"].isin(selection_trees)]\n",
    "\n",
    "df_crossref_2 = df_crossref_2[df_crossref_2[\"target\"].isin(selection_targets)]\n",
    "df_crossref_3 = df_crossref_3[df_crossref_3[\"target\"].isin(selection_targets)]\n",
    "df_crossref_5 = df_crossref_5[df_crossref_5[\"target\"].isin(selection_targets)]\n",
    "df_crossref_10 = df_crossref_10[df_crossref_10[\"target\"].isin(selection_targets)]\n",
    "df_crossref_15 = df_crossref_15[df_crossref_15[\"target\"].isin(selection_targets)]"
   ]
  },
  {
   "cell_type": "code",
   "execution_count": null,
   "metadata": {
    "ExecuteTime": {
     "end_time": "2023-08-18T13:02:22.625152Z",
     "start_time": "2023-08-18T13:02:22.622555Z"
    }
   },
   "outputs": [],
   "source": [
    "df_crossref_2.head()"
   ]
  },
  {
   "cell_type": "code",
   "execution_count": null,
   "metadata": {
    "ExecuteTime": {
     "end_time": "2023-08-18T13:02:22.627814Z",
     "start_time": "2023-08-18T13:02:22.626253Z"
    }
   },
   "outputs": [],
   "source": [
    "def tree_to_id(tree):\n",
    "    return np.where(df_crossref_2[\"tree\"].unique() == tree)[0][0]"
   ]
  },
  {
   "cell_type": "code",
   "execution_count": null,
   "metadata": {
    "ExecuteTime": {
     "end_time": "2023-08-18T13:02:22.630282Z",
     "start_time": "2023-08-18T13:02:22.629120Z"
    }
   },
   "outputs": [],
   "source": [
    "def target_to_id(target):\n",
    "    return np.where(df_crossref_2[\"target\"].unique() == target)[0][0]"
   ]
  },
  {
   "cell_type": "code",
   "execution_count": null,
   "metadata": {
    "ExecuteTime": {
     "end_time": "2023-08-18T13:02:22.641535Z",
     "start_time": "2023-08-18T13:02:22.635318Z"
    }
   },
   "outputs": [],
   "source": [
    "def translator(input):\n",
    "    if input == \"book_target\":\n",
    "        return \"Books\"\n",
    "    if input == \"news_target_bbc\" or input == \"bbc_target\":\n",
    "        return \"BBC\"\n",
    "    if input == \"news_target_reuters\" or input == \"reuters_target\":\n",
    "        return \"Reuters\"\n",
    "    if input == \"wiki_target_history\" or input == \"wiki_history_target\":\n",
    "        return \"Wiki Hist.\"\n",
    "    if input == \"wiki_target_science\" or input == \"wiki_science_target\":\n",
    "        return \"Wiki Sci.\"\n",
    "    if input == \"wiki_target_sports\" or input == \"wiki_sports_target\":\n",
    "        return \"Wiki Sport\"\n",
    "    if input == \"wiki_target_cities\" or input == \"wiki_cities_target\":\n",
    "        return \"Wiki Cities\"\n",
    "    if input == \"twitter_target\":\n",
    "        return \"Twitter\"\n",
    "    if input == \"book_combi_tree\" or input == \"book_combi\":\n",
    "        return \"Books\"\n",
    "    if input == \"news_combi_tree\" or input == \"news_combi\":\n",
    "        return \"News\"\n",
    "    if input == \"wiki_combi_tree\" or input == \"wiki_combi\":\n",
    "        return \"Wiki\"\n",
    "    if input == \"twitter_combi_tree\" or input == \"twitter_combi\":\n",
    "        return \"Twitter\"\n",
    "    if input == \"complete_combi_tree\" or input == \"complete_combi\":\n",
    "        return \"Combi\"\n",
    "    return input\n",
    "        "
   ]
  },
  {
   "cell_type": "code",
   "execution_count": null,
   "metadata": {
    "ExecuteTime": {
     "end_time": "2023-08-18T13:02:22.682763Z",
     "start_time": "2023-08-18T13:02:22.641658Z"
    }
   },
   "outputs": [],
   "source": [
    "custom_dict = {'Books': 0, 'BBC': 1, 'Reuters': 2, \"Wiki Hist.\": 3,\n",
    "               \"Wiki Cities\":4, \"Wiki Sci.\":5, \"Wiki Sport\":6, \"Twitter\":7,\n",
    "               \"Books\":8, \"News\":9, \"Wiki\":10, \"Twitter\":11,\n",
    "               \"Combi\": 12}\n",
    "\n",
    "\n",
    "df_crossref_2[\"tree\"] = df_crossref_2[\"tree\"].apply(translator)\n",
    "df_crossref_3[\"tree\"] = df_crossref_3[\"tree\"].apply(translator)\n",
    "df_crossref_5[\"tree\"] = df_crossref_5[\"tree\"].apply(translator)\n",
    "df_crossref_10[\"tree\"] = df_crossref_10[\"tree\"].apply(translator)\n",
    "df_crossref_15[\"tree\"] = df_crossref_15[\"tree\"].apply(translator)\n",
    "\n",
    "df_crossref_2[\"target\"] = df_crossref_2[\"target\"].apply(translator)\n",
    "df_crossref_3[\"target\"] = df_crossref_3[\"target\"].apply(translator)\n",
    "df_crossref_5[\"target\"] = df_crossref_5[\"target\"].apply(translator)\n",
    "df_crossref_10[\"target\"] = df_crossref_10[\"target\"].apply(translator)\n",
    "df_crossref_15[\"target\"] = df_crossref_15[\"target\"].apply(translator)\n",
    "\n",
    "\n",
    "df_crossref_2 = df_crossref_2.sort_values(by=[\"tree\",\"target\"],key=lambda x: x.map(custom_dict))\n",
    "df_crossref_3 = df_crossref_3.sort_values([\"tree\",\"target\"],key=lambda x: x.map(custom_dict))\n",
    "df_crossref_5 = df_crossref_5.sort_values([\"tree\",\"target\"],key=lambda x: x.map(custom_dict))\n",
    "df_crossref_10 = df_crossref_10.sort_values([\"tree\",\"target\"],key=lambda x: x.map(custom_dict))\n",
    "df_crossref_15 = df_crossref_15.sort_values([\"tree\",\"target\"],key=lambda x: x.map(custom_dict))"
   ]
  },
  {
   "cell_type": "code",
   "execution_count": null,
   "metadata": {
    "ExecuteTime": {
     "end_time": "2023-08-18T13:02:22.696478Z",
     "start_time": "2023-08-18T13:02:22.664695Z"
    }
   },
   "outputs": [],
   "source": [
    "df_crossref_2.head()"
   ]
  },
  {
   "cell_type": "code",
   "execution_count": null,
   "metadata": {
    "ExecuteTime": {
     "end_time": "2023-08-18T13:02:26.629034Z",
     "start_time": "2023-08-18T13:02:22.664902Z"
    }
   },
   "outputs": [],
   "source": [
    "width = df_crossref_2[\"target\"].unique().size\n",
    "height = df_crossref_2[\"tree\"].unique().size\n",
    "plt.rcParams['axes.grid'] = True\n",
    "plt.rcParams['axes.grid.axis'] = \"y\"\n",
    "\n",
    "pal1 = sns.color_palette(\"Blues\", n_colors=5)\n",
    "pal2 = sns.color_palette(\"Greens\", n_colors=5)\n",
    "\n",
    "\n",
    "linewidth = 1.0\n",
    "\n",
    "linestyles = [\"solid\"] * 5\n",
    "\n",
    "\n",
    "fig, ax = plt.subplots(height,width,figsize=(10, 5))\n",
    "fig.subplots_adjust(hspace=0.05, wspace=0.05)\n",
    "\n",
    "for i,line in df_crossref_2.iterrows():\n",
    "    lists = sorted([(int(x),y)for (x,y) in line[\"OppRatio\"].items()])\n",
    "    x, y = zip(*lists)\n",
    "    ax[tree_to_id(line[\"tree\"]), target_to_id(line[\"target\"])].plot(x,y,c=pal1[0],linestyle=linestyles[0],linewidth=linewidth)\n",
    "\n",
    "    lists = sorted([(int(x),y)for (x,y) in line[\"OppRandGzRatio\"].items()])\n",
    "    x, y = zip(*lists)\n",
    "    ax[tree_to_id(line[\"tree\"]), target_to_id(line[\"target\"])].plot(x,y,c=pal2[0],linestyle=linestyles[0],linewidth=linewidth)\n",
    "\n",
    "    lists = sorted([(int(x),y)for (x,y) in line[\"GzRatio\"].items()])\n",
    "    x, y = zip(*lists)\n",
    "    ax[tree_to_id(line[\"tree\"]), target_to_id(line[\"target\"])].plot(x,y,c=\"red\")\n",
    "\n",
    "\n",
    "for i,line in df_crossref_3.iterrows():\n",
    "    lists = sorted([(int(x),y)for (x,y) in line[\"OppRatio\"].items()])\n",
    "    x, y = zip(*lists)\n",
    "    ax[tree_to_id(line[\"tree\"]), target_to_id(line[\"target\"])].plot(x,y,c=pal1[1],linestyle=linestyles[1],linewidth=linewidth)\n",
    "\n",
    "    lists = sorted([(int(x),y)for (x,y) in line[\"OppRandGzRatio\"].items()])\n",
    "    x, y = zip(*lists)\n",
    "    ax[tree_to_id(line[\"tree\"]), target_to_id(line[\"target\"])].plot(x,y,c=pal2[1],linestyle=linestyles[1],linewidth=linewidth)\n",
    "\n",
    "    lists = sorted([(int(x),y)for (x,y) in line[\"GzRatio\"].items()])\n",
    "    x, y = zip(*lists)\n",
    "    ax[tree_to_id(line[\"tree\"]), target_to_id(line[\"target\"])].plot(x,y,c=\"red\")\n",
    "\n",
    "\n",
    "for i,line in df_crossref_5.iterrows():\n",
    "    lists = sorted([(int(x),y)for (x,y) in line[\"OppRatio\"].items()])\n",
    "    x, y = zip(*lists)\n",
    "    ax[tree_to_id(line[\"tree\"]), target_to_id(line[\"target\"])].plot(x,y,c=pal1[2],linestyle=linestyles[2],linewidth=linewidth)\n",
    "\n",
    "    lists = sorted([(int(x),y)for (x,y) in line[\"OppRandGzRatio\"].items()])\n",
    "    x, y = zip(*lists)\n",
    "    ax[tree_to_id(line[\"tree\"]), target_to_id(line[\"target\"])].plot(x,y,c=pal2[2],linestyle=linestyles[2],linewidth=linewidth)\n",
    "\n",
    "    lists = sorted([(int(x),y)for (x,y) in line[\"GzRatio\"].items()])\n",
    "    x, y = zip(*lists)\n",
    "    ax[tree_to_id(line[\"tree\"]), target_to_id(line[\"target\"])].plot(x,y,c=\"red\")\n",
    "\n",
    "\n",
    "for i,line in df_crossref_10.iterrows():\n",
    "    lists = sorted([(int(x),y)for (x,y) in line[\"OppRatio\"].items()])\n",
    "    x, y = zip(*lists)\n",
    "    ax[tree_to_id(line[\"tree\"]), target_to_id(line[\"target\"])].plot(x,y,c=pal1[3],linestyle=linestyles[3],linewidth=linewidth)\n",
    "\n",
    "    lists = sorted([(int(x),y)for (x,y) in line[\"OppRandGzRatio\"].items()])\n",
    "    x, y = zip(*lists)\n",
    "    ax[tree_to_id(line[\"tree\"]), target_to_id(line[\"target\"])].plot(x,y,c=pal2[3],linestyle=linestyles[3],linewidth=linewidth)\n",
    "\n",
    "    lists = sorted([(int(x),y)for (x,y) in line[\"GzRatio\"].items()])\n",
    "    x, y = zip(*lists)\n",
    "    ax[tree_to_id(line[\"tree\"]), target_to_id(line[\"target\"])].plot(x,y,c=\"red\")\n",
    "\n",
    "\n",
    "for i,line in df_crossref_15.iterrows():\n",
    "    lists = sorted([(int(x),y)for (x,y) in line[\"OppRatio\"].items()])\n",
    "    x, y = zip(*lists)\n",
    "    ax[tree_to_id(line[\"tree\"]), target_to_id(line[\"target\"])].plot(x,y,c=pal1[4],linestyle=linestyles[4],linewidth=linewidth)\n",
    "\n",
    "    lists = sorted([(int(x),y)for (x,y) in line[\"OppRandGzRatio\"].items()])\n",
    "    x, y = zip(*lists)\n",
    "    ax[tree_to_id(line[\"tree\"]), target_to_id(line[\"target\"])].plot(x,y,c=pal2[4],linestyle=linestyles[4],linewidth=linewidth)\n",
    "\n",
    "    lists = sorted([(int(x),y)for (x,y) in line[\"GzRatio\"].items()])\n",
    "    x, y = zip(*lists)\n",
    "    ax[tree_to_id(line[\"tree\"]), target_to_id(line[\"target\"])].plot(x,y,c=\"red\")\n",
    "\n",
    "\n",
    "# Set \"big\" labes for ros and cols of plots\n",
    "pad = 5\n",
    "\n",
    "plt.setp(ax,xlabel=None, ylabel=None)\n",
    "for a in ax[:-1,:].flat:\n",
    "    a.set_xticklabels([])\n",
    "    pass\n",
    "for a in ax[:,1:].flat:\n",
    "    a.set_yticklabels([])\n",
    "    pass\n",
    "\n",
    "for a, col in zip(ax[0], df_crossref_2[\"target\"].unique()):\n",
    "    a.annotate(translator(col), xy=(0.5, 1), xytext=(0, pad),\n",
    "                xycoords='axes fraction', textcoords='offset points',\n",
    "                size='large', ha='center', va='baseline')\n",
    "\n",
    "\n",
    "for a, row in zip(ax[:,0], df_crossref_2[\"tree\"].unique()):\n",
    "    a.annotate(translator(row), xy=(0, 0.5), xytext=(-a.yaxis.labelpad - pad, 0),\n",
    "                xycoords=a.yaxis.label, textcoords='offset points',\n",
    "                size='large', ha='right', va='center')\n",
    "\n",
    "\n",
    "for idx, a in enumerate(ax[-1]):\n",
    "    if idx == 3:\n",
    "        a.set_xlabel(\"Text Length (Words)\")\n",
    "    \n",
    "\n",
    "for idx, a in enumerate(ax[:,0]):\n",
    "    if idx == 2:\n",
    "        a.set_ylabel(\"Ratio\\n(lower is better)\")\n",
    "    else:\n",
    "        a.set_ylabel(\" \\n\")\n",
    "\n",
    "for a in ax.flat:\n",
    "    a.yaxis.set_major_locator(plt.MaxNLocator(3))\n",
    "\n",
    "fig.text(0.5, 0.95, 'Target Message', ha='center',fontdict={\"size\":15})\n",
    "fig.text(-0.04, 0.5, 'Encoding Tree', va='center', rotation='vertical',fontdict={\"size\":15})\n",
    "plt.setp(ax,ylim=(0.15,0.75))\n",
    "opp_patch = mpatches.Patch(color=pal1[4], label='Opp')\n",
    "opp_gz_patch = mpatches.Patch(color=pal2[4], label='Opp+GZ')\n",
    "gz_patch = mpatches.Patch(color=\"red\", label='GZip')\n",
    "\n",
    "fig.legend(handles=[opp_patch,opp_gz_patch,gz_patch],loc=3)\n",
    "if spelling:\n",
    "    plt.savefig(\"Test_spell.jpg\",bbox_inches='tight')\n",
    "    plt.savefig(\"Encoding_spell.eps\",bbox_inches='tight')\n",
    "\n",
    "else:\n",
    "    plt.savefig(\"Test.jpg\",bbox_inches='tight')\n",
    "    plt.savefig(\"Encoding_Node_Tree.eps\",bbox_inches='tight')"
   ]
  },
  {
   "cell_type": "code",
   "execution_count": null,
   "metadata": {
    "ExecuteTime": {
     "end_time": "2023-08-18T13:02:26.738467Z",
     "start_time": "2023-08-18T13:02:26.634060Z"
    }
   },
   "outputs": [],
   "source": [
    "plt.plot([(0,0),(1,1)],c=pal1[4])"
   ]
  },
  {
   "attachments": {},
   "cell_type": "markdown",
   "metadata": {},
   "source": [
    "## Boxplot mixed"
   ]
  },
  {
   "cell_type": "code",
   "execution_count": null,
   "metadata": {
    "ExecuteTime": {
     "end_time": "2023-08-18T13:02:26.739186Z",
     "start_time": "2023-08-18T13:02:26.732089Z"
    }
   },
   "outputs": [],
   "source": [
    "df_crossref_2_long = pd.read_pickle(f\"{res_folder}/Crossref_2_long.p\")\n",
    "df_crossref_3_long = pd.read_pickle(f\"{res_folder}/Crossref_3_long.p\")\n",
    "df_crossref_5_long = pd.read_pickle(f\"{res_folder}/Crossref_5_long.p\")\n",
    "df_crossref_10_long = pd.read_pickle(f\"{res_folder}/Crossref_10_long.p\")\n",
    "df_crossref_15_long = pd.read_pickle(f\"{res_folder}/Crossref_15_long.p\")"
   ]
  },
  {
   "cell_type": "code",
   "execution_count": null,
   "metadata": {
    "ExecuteTime": {
     "end_time": "2023-08-18T13:02:26.739355Z",
     "start_time": "2023-08-18T13:02:26.732245Z"
    }
   },
   "outputs": [],
   "source": [
    "df_crossref_2_long.head()"
   ]
  },
  {
   "cell_type": "code",
   "execution_count": null,
   "metadata": {
    "ExecuteTime": {
     "end_time": "2023-08-18T13:02:26.739527Z",
     "start_time": "2023-08-18T13:02:26.736450Z"
    }
   },
   "outputs": [],
   "source": [
    "opp = [i[\"100000\"] for i in df_crossref_2_long[\"OppRatio\"]]\n",
    "opp.extend([i[\"100000\"] for i in df_crossref_3_long[\"OppRatio\"]])\n",
    "opp.extend([i[\"100000\"] for i in df_crossref_5_long[\"OppRatio\"]])\n",
    "opp.extend([i[\"100000\"] for i in df_crossref_10_long[\"OppRatio\"]])\n",
    "opp.extend([i[\"100000\"] for i in df_crossref_15_long[\"OppRatio\"]])\n",
    "\n",
    "opp_gz = [i[\"100000\"] for i in df_crossref_2_long[\"OppGzRatio\"]]\n",
    "opp_gz.extend([i[\"100000\"] for i in df_crossref_3_long[\"OppGzRatio\"]])\n",
    "opp_gz.extend([i[\"100000\"] for i in df_crossref_5_long[\"OppGzRatio\"]])\n",
    "opp_gz.extend([i[\"100000\"] for i in df_crossref_10_long[\"OppGzRatio\"]])\n",
    "opp_gz.extend([i[\"100000\"] for i in df_crossref_15_long[\"OppGzRatio\"]])\n",
    "\n",
    "opp_rand_gz = [i[\"100000\"] for i in df_crossref_2_long[\"OppRandGzRatio\"]]\n",
    "opp_rand_gz.extend([i[\"100000\"] for i in df_crossref_3_long[\"OppRandGzRatio\"]])\n",
    "opp_rand_gz.extend([i[\"100000\"] for i in df_crossref_5_long[\"OppRandGzRatio\"]])\n",
    "opp_rand_gz.extend([i[\"100000\"] for i in df_crossref_10_long[\"OppRandGzRatio\"]])\n",
    "opp_rand_gz.extend([i[\"100000\"] for i in df_crossref_15_long[\"OppRandGzRatio\"]])\n",
    "\n",
    "gz = [i[\"100000\"] for i in df_crossref_2_long[\"GzRatio\"]]\n",
    "gz.extend([i[\"100000\"] for i in df_crossref_3_long[\"GzRatio\"]])\n",
    "gz.extend([i[\"100000\"] for i in df_crossref_5_long[\"GzRatio\"]])\n",
    "gz.extend([i[\"100000\"] for i in df_crossref_10_long[\"GzRatio\"]])\n",
    "gz.extend([i[\"100000\"] for i in df_crossref_15_long[\"GzRatio\"]])\n",
    "\n",
    "box_df = pd.DataFrame({\"Opp\":opp,\"OppGz\":opp_gz,\"OppRandGZ\":opp_rand_gz,\"Gz\":gz})"
   ]
  },
  {
   "cell_type": "code",
   "execution_count": null,
   "metadata": {
    "ExecuteTime": {
     "end_time": "2023-08-18T13:02:26.758404Z",
     "start_time": "2023-08-18T13:02:26.741079Z"
    }
   },
   "outputs": [],
   "source": [
    "box_df.head()"
   ]
  },
  {
   "cell_type": "code",
   "execution_count": null,
   "metadata": {
    "ExecuteTime": {
     "end_time": "2023-08-18T13:02:26.791630Z",
     "start_time": "2023-08-18T13:02:26.757648Z"
    },
    "collapsed": false
   },
   "outputs": [],
   "source": [
    "box_df.describe()"
   ]
  },
  {
   "cell_type": "code",
   "execution_count": null,
   "metadata": {
    "ExecuteTime": {
     "end_time": "2023-08-18T13:02:26.881714Z",
     "start_time": "2023-08-18T13:02:26.757856Z"
    }
   },
   "outputs": [],
   "source": [
    "box_df.boxplot()\n",
    "plt.ylabel(\"Compression Ratio\\n(lower is better)\")\n",
    "plt.savefig(\"Box_test.jpg\")"
   ]
  },
  {
   "attachments": {},
   "cell_type": "markdown",
   "metadata": {},
   "source": [
    "## Boxplot Seperate"
   ]
  },
  {
   "cell_type": "code",
   "execution_count": null,
   "metadata": {
    "ExecuteTime": {
     "end_time": "2023-08-18T13:02:26.885020Z",
     "start_time": "2023-08-18T13:02:26.869694Z"
    }
   },
   "outputs": [],
   "source": [
    "opp_2 = [i[\"100000\"] for i in df_crossref_2_long[\"OppRatio\"]]\n",
    "opp_15 = [i[\"100000\"] for i in df_crossref_15_long[\"OppRatio\"]]\n",
    "\n",
    "opp_gz_2 = [i[\"100000\"] for i in df_crossref_2_long[\"OppGzRatio\"]]\n",
    "opp_gz_15 = [i[\"100000\"] for i in df_crossref_15_long[\"OppGzRatio\"]]\n",
    "\n",
    "opp_rand_gz_2 = [i[\"100000\"] for i in df_crossref_2_long[\"OppRandGzRatio\"]]\n",
    "opp_rand_gz_15 = [i[\"100000\"] for i in df_crossref_15_long[\"OppRandGzRatio\"]]\n",
    "\n",
    "gz_2 = [i[\"100000\"] for i in df_crossref_2_long[\"GzRatio\"]]\n",
    "gz_15 = [i[\"100000\"] for i in df_crossref_15_long[\"GzRatio\"]]\n",
    "\n",
    "df = []\n",
    "for i in opp_2:\n",
    "    df.append({\"Algo\":\"Opp\",\"Ratio\":i,\"Depth\":2})\n",
    "for i in opp_15:\n",
    "    df.append({\"Algo\":\"Opp\",\"Ratio\":i,\"Depth\":15})\n",
    "\n",
    "for i in opp_rand_gz_2:\n",
    "    df.append({\"Algo\":\"OppGZ\",\"Ratio\":i,\"Depth\":2})\n",
    "for i in opp_rand_gz_15:\n",
    "    df.append({\"Algo\":\"OppGZ\",\"Ratio\":i,\"Depth\":15})\n",
    "\n",
    "for i in gz_2:\n",
    "    df.append({\"Algo\":\"GZ\",\"Ratio\":i,\"Depth\":2})\n",
    "for i in gz_15:\n",
    "    df.append({\"Algo\":\"GZ\",\"Ratio\":i,\"Depth\":15})\n",
    "\n",
    "df_box_sep = pd.DataFrame(df)"
   ]
  },
  {
   "cell_type": "code",
   "execution_count": null,
   "metadata": {
    "ExecuteTime": {
     "end_time": "2023-08-18T13:02:26.885185Z",
     "start_time": "2023-08-18T13:02:26.869902Z"
    },
    "collapsed": false
   },
   "outputs": [],
   "source": [
    "df_box_sep.groupby([\"Depth\",\"Algo\"]).describe()"
   ]
  },
  {
   "cell_type": "code",
   "execution_count": null,
   "metadata": {
    "ExecuteTime": {
     "end_time": "2023-08-18T13:02:27.053122Z",
     "start_time": "2023-08-18T13:02:26.879845Z"
    }
   },
   "outputs": [],
   "source": [
    "sns.set(font_scale=1.5)\n",
    "sns.boxplot(df_box_sep,x=\"Algo\",y=\"Ratio\",hue=\"Depth\")\n",
    "plt.xlabel(\"\")\n",
    "plt.ylim(0.2,1.0)\n",
    "plt.savefig(\"Box_node_ID.eps\",bbox_inches='tight')"
   ]
  },
  {
   "cell_type": "markdown",
   "metadata": {
    "collapsed": false
   },
   "source": [
    "## Match Stats"
   ]
  },
  {
   "cell_type": "code",
   "execution_count": null,
   "metadata": {
    "ExecuteTime": {
     "end_time": "2023-08-18T13:02:27.103759Z",
     "start_time": "2023-08-18T13:02:27.053270Z"
    }
   },
   "outputs": [],
   "source": [
    "df_matches = pd.read_pickle(f\"{res_folder}/Match_test.p\")\n",
    "\n",
    "df_matches = df_matches[df_matches[\"tree\"]==\"complete_combi_tree\"]"
   ]
  },
  {
   "cell_type": "code",
   "execution_count": null,
   "metadata": {
    "ExecuteTime": {
     "end_time": "2023-08-18T13:02:27.112855Z",
     "start_time": "2023-08-18T13:02:27.110246Z"
    },
    "collapsed": false
   },
   "outputs": [],
   "source": [
    "df_matches.head()"
   ]
  },
  {
   "cell_type": "code",
   "execution_count": null,
   "metadata": {
    "ExecuteTime": {
     "end_time": "2023-08-18T13:02:27.116238Z",
     "start_time": "2023-08-18T13:02:27.113248Z"
    },
    "collapsed": false
   },
   "outputs": [],
   "source": [
    "df_matches[\"target\"].unique()"
   ]
  },
  {
   "cell_type": "code",
   "execution_count": null,
   "metadata": {
    "ExecuteTime": {
     "end_time": "2023-08-18T13:02:27.119386Z",
     "start_time": "2023-08-18T13:02:27.116662Z"
    },
    "collapsed": false
   },
   "outputs": [],
   "source": [
    "df_matches[\"tree\"].unique()"
   ]
  },
  {
   "cell_type": "code",
   "execution_count": null,
   "metadata": {
    "ExecuteTime": {
     "end_time": "2023-08-18T13:02:27.142802Z",
     "start_time": "2023-08-18T13:02:27.126400Z"
    },
    "collapsed": false
   },
   "outputs": [],
   "source": [
    "matches = []\n",
    "\n",
    "for i in df_matches[\"res\"]:\n",
    "    matches.extend(i)\n",
    "\n",
    "matches = list(map(lambda x: x if x >0 else 1, matches))"
   ]
  },
  {
   "cell_type": "code",
   "execution_count": null,
   "metadata": {
    "ExecuteTime": {
     "end_time": "2023-08-18T13:06:09.939690Z",
     "start_time": "2023-08-18T13:06:09.470092Z"
    },
    "collapsed": false
   },
   "outputs": [],
   "source": [
    "plt.hist(matches,bins=np.arange(22)-0.5)\n",
    "plt.xlabel(\"Match Length\")\n",
    "plt.ylabel(\"Match Count\")\n",
    "plt.xlim(0,21)\n",
    "plt.xticks(range(1,21), fontsize=13)\n",
    "plt.savefig(\"Hist.eps\",bbox_inches='tight')"
   ]
  }
 ],
 "metadata": {
  "kernelspec": {
   "display_name": "OPPRESSION",
   "language": "python",
   "name": "python3"
  },
  "language_info": {
   "codemirror_mode": {
    "name": "ipython",
    "version": 3
   },
   "file_extension": ".py",
   "mimetype": "text/x-python",
   "name": "python",
   "nbconvert_exporter": "python",
   "pygments_lexer": "ipython3",
   "version": "3.10.6"
  },
  "orig_nbformat": 4,
  "vscode": {
   "interpreter": {
    "hash": "41e1035467d31ba65524366443ff7d2edd6421e5a76f8b69fbd0d60bb69aa33c"
   }
  }
 },
 "nbformat": 4,
 "nbformat_minor": 2
}
