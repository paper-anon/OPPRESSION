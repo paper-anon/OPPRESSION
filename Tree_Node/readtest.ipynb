{
 "cells": [
  {
   "cell_type": "code",
   "execution_count": null,
   "metadata": {},
   "outputs": [],
   "source": [
    "from node_id_tree import *\n",
    "from tqdm.auto import tqdm\n",
    "import os\n",
    "import sys\n",
    "import multiprocessing as mp\n",
    "import glob\n",
    "import pickle"
   ]
  },
  {
   "cell_type": "code",
   "execution_count": null,
   "metadata": {},
   "outputs": [],
   "source": [
    "depth = 2\n",
    "book_target = open(\"texts/to_submit/sanitized/book-dracula\",\"r\").read().title().split(\" \")\n",
    "length = 10000"
   ]
  },
  {
   "cell_type": "code",
   "execution_count": null,
   "metadata": {},
   "outputs": [],
   "source": [
    "with open(f\"pickle/complete_combi_{depth}.p\",\"rb\") as f:\n",
    "        complete_combi_tree = pickle.load(f)"
   ]
  },
  {
   "cell_type": "code",
   "execution_count": null,
   "metadata": {},
   "outputs": [],
   "source": [
    "res = compress(complete_combi_tree,book_target[:length],True)\n",
    "maxnode = list(complete_combi_tree.nodes())[-1]\n",
    "write_text(res,\"readtest_spelling.bin\",maxnode)"
   ]
  },
  {
   "cell_type": "code",
   "execution_count": null,
   "metadata": {},
   "outputs": [],
   "source": [
    "res = compress(complete_combi_tree,book_target[:length],False)\n",
    "maxnode = list(complete_combi_tree.nodes())[-1]\n",
    "write_text(res,\"readtest.bin\",maxnode)"
   ]
  },
  {
   "cell_type": "code",
   "execution_count": null,
   "metadata": {},
   "outputs": [],
   "source": [
    "read_spelling = read_bin(\"readtest_spelling.bin\",complete_combi_tree)"
   ]
  },
  {
   "cell_type": "code",
   "execution_count": null,
   "metadata": {},
   "outputs": [],
   "source": [
    "read_no_spelling = read_bin(\"readtest.bin\",complete_combi_tree)"
   ]
  },
  {
   "cell_type": "code",
   "execution_count": null,
   "metadata": {
    "collapsed": false
   },
   "outputs": [],
   "source": [
    "set(read_spelling.title().split(' ')) - set(book_target[:length])"
   ]
  },
  {
   "cell_type": "code",
   "execution_count": null,
   "metadata": {
    "collapsed": false
   },
   "outputs": [],
   "source": [
    "set(book_target[:length]) - set(read_spelling.title().split(' '))"
   ]
  },
  {
   "cell_type": "code",
   "execution_count": null,
   "metadata": {
    "collapsed": false
   },
   "outputs": [],
   "source": [
    "set(read_no_spelling.title().split(' ')) - set(book_target[:length])"
   ]
  },
  {
   "cell_type": "code",
   "execution_count": null,
   "metadata": {
    "collapsed": false
   },
   "outputs": [],
   "source": [
    "print(set(book_target[:length]) - set(read_no_spelling.title().split(' ')))\n",
    "print(len(set(book_target[:length]) - set(read_no_spelling.title().split(' '))))"
   ]
  },
  {
   "cell_type": "code",
   "execution_count": null,
   "metadata": {
    "collapsed": false
   },
   "outputs": [],
   "source": []
  }
 ],
 "metadata": {
  "kernelspec": {
   "display_name": "OPPRESSION",
   "language": "python",
   "name": "python3"
  },
  "language_info": {
   "codemirror_mode": {
    "name": "ipython",
    "version": 3
   },
   "file_extension": ".py",
   "mimetype": "text/x-python",
   "name": "python",
   "nbconvert_exporter": "python",
   "pygments_lexer": "ipython3",
   "version": "3.10.6"
  },
  "orig_nbformat": 4,
  "vscode": {
   "interpreter": {
    "hash": "41e1035467d31ba65524366443ff7d2edd6421e5a76f8b69fbd0d60bb69aa33c"
   }
  }
 },
 "nbformat": 4,
 "nbformat_minor": 2
}
