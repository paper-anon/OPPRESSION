{
 "cells": [
  {
   "cell_type": "code",
   "execution_count": null,
   "metadata": {},
   "outputs": [],
   "source": [
    "from bitstring import BitArray\n",
    "import numpy as np\n",
    "import glob\n",
    "import pathlib\n",
    "import matplotlib.pyplot as plt\n",
    "import seaborn as sns"
   ]
  },
  {
   "cell_type": "code",
   "execution_count": null,
   "metadata": {},
   "outputs": [],
   "source": [
    "lengths = []\n",
    "for file in glob.glob(\"results/15/*_supergroup.opp_1000\"):\n",
    "\n",
    "    text_to_decode = open(file, 'r').readlines()\n",
    "\n",
    "    iterlines = iter(text_to_decode)\n",
    "    for line in iterlines:\n",
    "        if line.startswith(\"11111111\"):\n",
    "            lengths.append(1)\n",
    "            new_line = next(iterlines)\n",
    "            while new_line.startswith(\"11111111\"):\n",
    "                new_line=next(iterlines)\n",
    "            if new_line.startswith(\"1111\"):\n",
    "                pass\n",
    "            else:\n",
    "                lengths.append(line_to_length(new_line))\n",
    "        elif line.startswith(\"1111\"):\n",
    "            lengths.append(1)\n",
    "        else:\n",
    "            lengths.append(line_to_length(line))\n",
    "plt.rcParams['axes.grid'] = True\n",
    "plt.rcParams['axes.grid.axis'] = \"y\"\n",
    "plt.hist(lengths,bins=np.arange(16)-0.5);\n",
    "\n",
    "plt.xlabel(\"Match Length\")\n",
    "plt.ylabel(\"Match Count\")\n",
    "plt.xlim(0,16)\n",
    "plt.xticks(range(1,16));\n",
    "sns.set(font_scale=1.5)\n",
    "plt.savefig(\"doc_pointer_Hist.eps\",bbox_inches='tight')\n",
    "print(max(lengths))"
   ]
  }
 ],
 "metadata": {
  "kernelspec": {
   "display_name": "Python 3",
   "language": "python",
   "name": "python3"
  },
  "language_info": {
   "codemirror_mode": {
    "name": "ipython",
    "version": 3
   },
   "file_extension": ".py",
   "mimetype": "text/x-python",
   "name": "python",
   "nbconvert_exporter": "python",
   "pygments_lexer": "ipython3",
   "version": "3.10.6"
  },
  "orig_nbformat": 4
 },
 "nbformat": 4,
 "nbformat_minor": 2
}
