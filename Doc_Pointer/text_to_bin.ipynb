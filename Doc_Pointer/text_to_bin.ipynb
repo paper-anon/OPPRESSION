{
 "cells": [
  {
   "cell_type": "code",
   "execution_count": null,
   "metadata": {
    "collapsed": true
   },
   "outputs": [],
   "source": [
    "import pandas as pd\n",
    "import numpy as np\n",
    "import glob\n",
    "import sys"
   ]
  },
  {
   "cell_type": "code",
   "execution_count": null,
   "outputs": [],
   "source": [
    "def get_byte_size(path):\n",
    "    file1 = open(path, 'r')\n",
    "    lines = file1.readlines()\n",
    "    for line in lines:\n",
    "        filtered_line = \"\".join(filter(str.isdigit, line))\n",
    "        if not filtered_line.startswith(\"1111\"):\n",
    "            return len(filtered_line)//8"
   ],
   "metadata": {
    "collapsed": false
   }
  },
  {
   "cell_type": "code",
   "execution_count": null,
   "outputs": [],
   "source": [
    "def line_to_bin(line):\n",
    "    num = int(line,2)\n",
    "    #print(sys.getsizeof(num))\n",
    "    return num"
   ],
   "metadata": {
    "collapsed": false
   }
  },
  {
   "cell_type": "code",
   "execution_count": null,
   "outputs": [],
   "source": [
    "def txt_to_bin_rnd(input_path, byte_size):\n",
    "    file1 = open(input_path, 'r')\n",
    "    lines = file1.readlines()\n",
    "\n",
    "    pointers = []\n",
    "    iterlines = iter(lines)\n",
    "    for line in iterlines:\n",
    "        if line.startswith(\"11111111\"):\n",
    "            pointers.append(np.random.randint(0,2**(byte_size*8)-1)) # Spelling durch RandPointer ersetzen\n",
    "            new_line = next(iterlines)\n",
    "            while new_line.startswith(\"11111111\"):\n",
    "                new_line=next(iterlines)\n",
    "            if new_line.startswith(\"1111\"):\n",
    "                pass\n",
    "                #Nichts tun, da diese Zeile noch zu der 11111111 gehört\n",
    "                #pointers.append(np.random.randint(0,2**(byte_size*8)-1)) # Spelling durch RandPointer ersetzen, weil neues wort\n",
    "            else:\n",
    "                pointers.append(line_to_bin(new_line))\n",
    "        elif line.startswith(\"1111\"):\n",
    "            pointers.append(np.random.randint(0,2**(byte_size*8)-1))\n",
    "        else:\n",
    "            pointers.append(line_to_bin(line))\n",
    "\n",
    "    return pointers"
   ],
   "metadata": {
    "collapsed": false
   }
  },
  {
   "cell_type": "code",
   "execution_count": null,
   "outputs": [],
   "source": [
    "for file in glob.glob(\"results/*/*.opp_[12345]00\"):\n",
    "    print(file)\n",
    "    byte_size = get_byte_size(file)\n",
    "    with open(f\"{file}.rand_bin\", \"wb\") as out_file:\n",
    "        for i in txt_to_bin_rnd(file, byte_size):\n",
    "            out_file.write(i.to_bytes(byte_size, \"big\"))\n",
    "\n",
    "for file in glob.glob(\"results/*/*.opp_1000\"):\n",
    "    print(file)\n",
    "    byte_size = get_byte_size(file)\n",
    "    with open(f\"{file}.rand_bin\", \"wb\") as out_file:\n",
    "        for i in txt_to_bin_rnd(file, byte_size):\n",
    "            out_file.write(i.to_bytes(byte_size, \"big\"))"
   ],
   "metadata": {
    "collapsed": false
   }
  }
 ],
 "metadata": {
  "kernelspec": {
   "display_name": "Python 3",
   "language": "python",
   "name": "python3"
  },
  "language_info": {
   "codemirror_mode": {
    "name": "ipython",
    "version": 2
   },
   "file_extension": ".py",
   "mimetype": "text/x-python",
   "name": "python",
   "nbconvert_exporter": "python",
   "pygments_lexer": "ipython2",
   "version": "2.7.6"
  }
 },
 "nbformat": 4,
 "nbformat_minor": 0
}
