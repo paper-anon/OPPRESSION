{
 "cells": [
  {
   "cell_type": "code",
   "execution_count": null,
   "metadata": {},
   "outputs": [],
   "source": [
    "from bitstring import BitArray\n",
    "import numpy as np\n",
    "import glob\n",
    "import pathlib"
   ]
  },
  {
   "cell_type": "code",
   "execution_count": null,
   "metadata": {},
   "outputs": [],
   "source": [
    "def make_rand_pointer(path, output):\n",
    "\n",
    "    if \"supergroup\" in path:\n",
    "        byte_size = 5\n",
    "    else:\n",
    "        byte_size = 3\n",
    "\n",
    "    maxint = 99999\n",
    "\n",
    "    with open(path,\"rb\") as f:\n",
    "        with open(output,\"wb\") as f_out:\n",
    "            while (byte := f.read(byte_size)):\n",
    "                node = int.from_bytes(byte,byteorder=\"little\")\n",
    "                if node == 0:\n",
    "                    f_out.write(np.random.randint(maxint).to_bytes(byte_size,byteorder=\"little\"))\n",
    "                else:\n",
    "                    f_out.write(node.to_bytes(byte_size,byteorder=\"little\"))"
   ]
  },
  {
   "cell_type": "code",
   "execution_count": null,
   "metadata": {},
   "outputs": [],
   "source": [
    "for file in glob.glob(\"results/*/*_null.opp.bin_*[!z]\"):\n",
    "    if not \".RAND.\" in file:\n",
    "        make_rand_pointer(file,pathlib.Path(file).parent.joinpath(f\"{pathlib.Path(file).stem}.RAND{pathlib.Path(file).suffix}\"))\n",
    "\n",
    "for file in glob.glob(\"results/*/*null.opp.bin\"):\n",
    "    if not \".RAND.\" in file:\n",
    "        make_rand_pointer(file,pathlib.Path(file).parent.joinpath(f\"{pathlib.Path(file).stem}.RAND{pathlib.Path(file).suffix}\"))"
   ]
  }
 ],
 "metadata": {
  "kernelspec": {
   "display_name": "Python 3",
   "language": "python",
   "name": "python3"
  },
  "language_info": {
   "codemirror_mode": {
    "name": "ipython",
    "version": 3
   },
   "file_extension": ".py",
   "mimetype": "text/x-python",
   "name": "python",
   "nbconvert_exporter": "python",
   "pygments_lexer": "ipython3",
   "version": "3.10.6"
  },
  "orig_nbformat": 4
 },
 "nbformat": 4,
 "nbformat_minor": 2
}
